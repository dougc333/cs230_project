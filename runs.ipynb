{
 "cells": [
  {
   "cell_type": "markdown",
   "metadata": {},
   "source": [
    "<h4>DO NOT RUN THIS FROM THE JUPYTER CONSOLE!!!</h4>\n",
    "<h6>export as py</h6>\n",
    "<h6>then run from command line under tmux</h6> \n",
    "<h6>results stored in output files</h6>\n"
   ]
  },
  {
   "cell_type": "code",
   "execution_count": null,
   "metadata": {},
   "outputs": [],
   "source": [
    "#number_hidden_layer effect\n",
    "# 256,512/1024/2048, orig is 2048\n",
    "#\n",
    "#num layers, 1-2 with 256, 1-2 with 512, 2 w/1024\n",
    "#å"
   ]
  },
  {
   "cell_type": "code",
   "execution_count": null,
   "metadata": {},
   "outputs": [],
   "source": [
    "#bilstm vs gru? \n",
    "#\n",
    "\n"
   ]
  }
 ],
 "metadata": {
  "kernelspec": {
   "display_name": "Python 3",
   "language": "python",
   "name": "python3"
  },
  "language_info": {
   "codemirror_mode": {
    "name": "ipython",
    "version": 3
   },
   "file_extension": ".py",
   "mimetype": "text/x-python",
   "name": "python",
   "nbconvert_exporter": "python",
   "pygments_lexer": "ipython3",
   "version": "3.6.6"
  }
 },
 "nbformat": 4,
 "nbformat_minor": 2
}
