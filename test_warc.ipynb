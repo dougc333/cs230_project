{
 "cells": [
  {
   "cell_type": "code",
   "execution_count": null,
   "metadata": {},
   "outputs": [],
   "source": [
    "import warc\n",
    "import requests\n",
    "from contextlib import closing\n",
    "from io import StringIO\n",
    "\n",
    "def get_partial_warc_file(url, num_bytes=1024 * 10):\n",
    "    \"\"\"\n",
    "    Download the first part of a WARC file and return a warc.WARCFile instance.\n",
    "\n",
    "    url: the url of a gzipped WARC file\n",
    "    num_bytes: the number of bytes to download. Default is 10KB\n",
    "\n",
    "    return: warc.WARCFile instance\n",
    "    \"\"\"\n",
    "    with closing(requests.get(url, stream=True)) as r:\n",
    "        buf = StringIO(r.raw.read(num_bytes))\n",
    "    return warc.WARCFile(fileobj=buf, compress=True)\n",
    "\n",
    "urls = {\n",
    "    'warc': 'https://aws-publicdatasets.s3.amazonaws.com/common-crawl/crawl-data/CC-MAIN-2016-07/segments/1454701145519.33/warc/CC-MAIN-20160205193905-00000-ip-10-236-182-209.ec2.internal.warc.gz',\n",
    "    'wat':  'https://aws-publicdatasets.s3.amazonaws.com/common-crawl/crawl-data/CC-MAIN-2016-07/segments/1454701145519.33/wat/CC-MAIN-20160205193905-00000-ip-10-236-182-209.ec2.internal.warc.wat.gz',\n",
    "    'wet':  'https://aws-publicdatasets.s3.amazonaws.com/common-crawl/crawl-data/CC-MAIN-2016-07/segments/1454701145519.33/wet/CC-MAIN-20160205193905-00000-ip-10-236-182-209.ec2.internal.warc.wet.gz'\n",
    "}\n",
    "\n",
    "files = {file_type: get_partial_warc_file(url=url) for file_type, url in urls.items()}\n",
    "# this line can be used if you want to download the whole file\n",
    "# files = {file_type: warc.open(url) for file_type, url in urls.items()}"
   ]
  },
  {
   "cell_type": "code",
   "execution_count": 2,
   "metadata": {},
   "outputs": [
    {
     "name": "stdout",
     "output_type": "stream",
     "text": [
      "<class 'warc.warc.WARCRecord'>\n",
      "373\n",
      "{'header': <WARCHeader: type='warcinfo', record_id='<urn:uuid:92365c6c-e560-4422-b5e0-7caf85bbb094>'>, 'payload': <warc.utils.FilePart object at 0x7ffa30541fd0>, '_content': None}\n",
      "b'WARC/1.0\\r\\nWARC-Type: warcinfo\\r\\nWARC-Date: 2018-11-21T22:47:56Z\\r\\nWARC-Filename: CC-MAIN-20181112172845-20181112194415-00012.warc.wet.gz\\r\\nWARC-Record-ID: <urn:uuid:92365c6c-e560-4422-b5e0-7caf85bbb094>\\r\\nContent-Type: application/warc-fields\\r\\nContent-Length: 373\\r\\n\\r\\nSoftware-Info: ia-web-commons.1.1.9-SNAPSHOT-20181113022646\\r\\nExtracted-Date: Wed, 21 Nov 2018 22:47:56 GMT\\r\\nrobots: checked via crawler-commons 0.11-SNAPSHOT (https://github.com/crawler-commons/crawler-commons)\\r\\nisPartOf: CC-MAIN-2018-47\\r\\noperator: Common Crawl Admin (info@commoncrawl.org)\\r\\ndescription: Wide crawl of the web for November 2018\\r\\npublisher: Common Crawl\\r\\n\\r\\n\\r\\n\\r\\n'\n"
     ]
    },
    {
     "ename": "SystemExit",
     "evalue": "",
     "output_type": "error",
     "traceback": [
      "An exception has occurred, use %tb to see the full traceback.\n",
      "\u001b[0;31mSystemExit\u001b[0m\n"
     ]
    },
    {
     "name": "stderr",
     "output_type": "stream",
     "text": [
      "/home/dc/anaconda3/envs/cs230/lib/python3.6/site-packages/IPython/core/interactiveshell.py:2969: UserWarning: To exit: use 'exit', 'quit', or Ctrl-D.\n",
      "  warn(\"To exit: use 'exit', 'quit', or Ctrl-D.\", stacklevel=1)\n"
     ]
    }
   ],
   "source": [
    "filename='CC-MAIN-20181112172845-20181112194415-00012.warc.wet'\n",
    "home_dir= '/home/dc/warc3'\n",
    "import os\n",
    "import sys\n",
    "import warc\n",
    "with warc.open(os.path.join(home_dir,filename)) as f:\n",
    "    for record in f:\n",
    "        print(type(record))\n",
    "        print(record['Content-Length'])\n",
    "        print(vars(record))\n",
    "        #for property, value in vars(record).iteritems():\n",
    "        #    print (property, \": \", value)\n",
    "        print(record)\n",
    "        sys.exit()"
   ]
  },
  {
   "cell_type": "code",
   "execution_count": null,
   "metadata": {},
   "outputs": [],
   "source": []
  }
 ],
 "metadata": {
  "kernelspec": {
   "display_name": "Python 3",
   "language": "python",
   "name": "python3"
  },
  "language_info": {
   "codemirror_mode": {
    "name": "ipython",
    "version": 3
   },
   "file_extension": ".py",
   "mimetype": "text/x-python",
   "name": "python",
   "nbconvert_exporter": "python",
   "pygments_lexer": "ipython3",
   "version": "3.6.6"
  }
 },
 "nbformat": 4,
 "nbformat_minor": 2
}
