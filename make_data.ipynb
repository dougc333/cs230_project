{
 "cells": [
  {
   "cell_type": "code",
   "execution_count": null,
   "metadata": {},
   "outputs": [],
   "source": [
    "import os\n",
    "import argparse\n",
    "import pickle\n",
    "\n",
    "parser = argparse.ArgumentParser(description='NLI training')\n",
    "# paths\n",
    "parser.add_argument(\"--data_dir\", type=str, default='/home/dc/cs230_project/dataset', help=\"store duplicate questions\")\n",
    "params, _ = parser.parse_known_args()\n",
    "\n",
    "print(params)\n",
    "\n",
    "def save(X_train,X_valid,X_test,y_train,y_valid,y_test):\n",
    "    save_single_file(\"X_train\",X_train)\n",
    "    save_single_file(\"X_valid\",X_valid)\n",
    "    save_single_file(\"X_test\",X_test)\n",
    "    save_single_file(\"y_train\",y_train)\n",
    "    save_single_file(\"y_valid\",y_valid)\n",
    "    save_single_file(\"y_test\",y_test)\n",
    "    \n",
    "    \n",
    "def save_single_file(filename,data):\n",
    "    fh = open(filename+'.pkl', 'wb+')\n",
    "    pickle.dump(data, fh)\n",
    "    fh.close()\n",
    "    \n",
    "def load_single_file(filename):\n",
    "    fh = open(os.path.join(params.data_dir,filename+'.pkl'),'rb')\n",
    "    data = pickle.load(fh)\n",
    "    fh.close()\n",
    "    return data\n",
    "\n",
    "def load_data():\n",
    "    '''\n",
    "    #df = df.loc[ (df['q1_len'] > 10) & (df['q2_len'] > 10)]\n",
    "    '''\n",
    "    X_train = load_single_file(\"X_train\")\n",
    "    X_valid = load_single_file(\"X_valid\")\n",
    "    X_test = load_single_file(\"X_test\")\n",
    "    y_train = load_single_file(\"y_train\")\n",
    "    y_valid = load_single_file(\"y_valid\")\n",
    "    y_test = load_single_file(\"y_test\")\n",
    "    return X_train, X_valid, X_test, y_train,y_valid, y_test\n",
    "    \n",
    "def make_dataset(path):\n",
    "    '''\n",
    "    input: path: path where quora_duplicate.tsv\n",
    "    output: train, dev, valid tsv datasets\n",
    "    '''\n",
    "    input_file = 'quora_duplicate_questions.tsv'\n",
    "    df = pd.read_csv(os.path.join(path,input_file),sep='\\t')\n",
    "    df = df.drop([\"id\",\"qid1\",\"qid2\"],axis=1)\n",
    "    print(df.head())\n",
    "    print(f\"num rows dataframe:{len(df)}\")\n",
    "    print(df.values.shape)\n",
    "    #drop rows which have 0 in either column. Must be populated wq1 and q2\n",
    "    #lowercase and split dataframe\n",
    "    #df.apply(lambda x: x.str.lower() if(x.dtype == 'object') else x)\n",
    "    #keep capital letters,\n",
    "    X_train, X_test, y_train, y_test = train_test_split(df[['question1','question2']].values, df[['is_duplicate']].values, test_size=0.40, random_state=42)\n",
    "    X_test,X_valid,y_test,y_valid = train_test_split(X_test, y_test, test_size=0.50, random_state=42)\n",
    "    print(f\"X_train.shape:{X_train.shape} X_train.shape:{y_train.shape}\")\n",
    "    print(f\"X_test.shape:{X_test.shape} y_test.shape:{y_test.shape}\")\n",
    "    print(f\"X_valid.shape:{X_valid.shape} y_valid.shape:{y_valid.shape}\")\n",
    "    \n",
    "    print(X_train[:6],y_train[:6])\n",
    "    print('---------------------')\n",
    "    print(X_test[:6],y_test[:6])\n",
    "    print('---------------------')\n",
    "    print(X_valid[:6],y_valid[:6])\n",
    "    \n",
    "    return X_train,X_valid,X_test,y_train,y_valid,y_test\n",
    "    \n",
    "#X_train,X_valid,X_test,y_train,y_valid,y_test = make_dataset('/home/dc/cs230_project')\n",
    "#save(X_train,X_valid,X_test,y_train,y_valid,y_test)\n",
    "X_train,X_valid,X_test,y_train,y_valid,y_test = load_data()\n",
    "print(type(X_train),X_train.shape,type(y_train),y_train.shape)\n",
    "print(type(X_valid),X_valid.shape,type(y_valid),y_valid.shape)\n",
    "print(type(X_test),X_test.shape,type(y_test),y_test.shape)"
   ]
  },
  {
   "cell_type": "code",
   "execution_count": null,
   "metadata": {},
   "outputs": [],
   "source": [
    "#reforamt into q1 and q2 because the questions have different lengt\n",
    "\n",
    "def format_data(X_train, X_valid,X_test, y_train,y_valid,y_test):\n",
    "    s1 = {}\n",
    "    s2 = {}\n",
    "    target = {}\n",
    "    s1['train'],s1['dev'],s1['test'],s2['train'],s2['dev'],s2['test'] = {},{},{},{},{},{}\n",
    "    target['train'],target['dev'],target['test']={},{},{}\n",
    "\n",
    "    s1['train']['sent'] = [x for x in X_train[:,0]]\n",
    "    s2['train']['sent'] = [x for x in X_train[:,1]]\n",
    "    s1['dev']['sent'] = [x for x in X_valid[:,0]]\n",
    "    s2['dev']['sent'] = [x for x in X_valid[:,1]]\n",
    "    s1['test']['sent'] = [x for x in X_test[:,0]]\n",
    "    s2['test']['sent'] = [x for x in X_test[:,1]]\n",
    "    target['train']['data'] = np.array([x[0] for x in y_train])\n",
    "    target['dev']['data'] = np.array([x[0] for x in y_valid])\n",
    "    target['test']['data'] = np.array([x[0] for x in y_test.tolist()])\n",
    "\n",
    "    train = {'s1': s1['train']['sent'], 's2': s2['train']['sent'],\n",
    "             'label': target['train']['data']}\n",
    "    dev = {'s1': s1['dev']['sent'], 's2': s2['dev']['sent'],\n",
    "           'label': target['dev']['data']}\n",
    "    test = {'s1': s1['test']['sent'], 's2': s2['test']['sent'],\n",
    "            'label': target['test']['data']}\n",
    "    return train,dev,test\n"
   ]
  },
  {
   "cell_type": "code",
   "execution_count": null,
   "metadata": {},
   "outputs": [],
   "source": [
    "X_train,X_valid,X_test,y_train,y_valid,y_test = load_data()\n",
    "train,valid,test = format_data(X_train, X_valid,X_test, y_train,y_valid,y_test)\n",
    "print(type(train),type(valid),type(test))\n",
    "print(type(train['s1']),type(train['s2']),type(train['label']))\n",
    "print(type(valid['s1']),type(valid['s2']),type(valid['label']))\n",
    "print(type(test['s1']),type(test['s2']),type(test['label']))\n",
    "print(type(test['label']))\n",
    "print(test['label'])\n",
    "print(test['label'].shape)"
   ]
  },
  {
   "cell_type": "code",
   "execution_count": null,
   "metadata": {},
   "outputs": [],
   "source": [
    "x = np.array([[[0], [1], [2]]])\n",
    "np.squeeze(x).shape\n",
    "x.shape"
   ]
  },
  {
   "cell_type": "code",
   "execution_count": null,
   "metadata": {},
   "outputs": [],
   "source": [
    "import numpy as np\n",
    "\n",
    "def get_word_dict(sentences):\n",
    "    # create vocab of words\n",
    "    word_dict = {}\n",
    "    for sent in sentences:\n",
    "        for word in sent.split():\n",
    "            if word not in word_dict:\n",
    "                word_dict[word] = ''\n",
    "    word_dict['<s>'] = ''\n",
    "    word_dict['</s>'] = ''\n",
    "    word_dict['<p>'] = ''\n",
    "    return word_dict\n",
    "\n",
    "\n",
    "def get_glove(word_dict, glove_path):\n",
    "    # create word_vec with glove vectors\n",
    "    word_vec = {}\n",
    "    with open(glove_path) as f:\n",
    "        for line in f:\n",
    "            word, vec = line.split(' ', 1)\n",
    "            if word in word_dict:\n",
    "                word_vec[word] = np.array(list(map(float, vec.split())))\n",
    "    print('Found {0}(/{1}) words with glove vectors'.format(\n",
    "                len(word_vec), len(word_dict)))\n",
    "    return word_vec\n",
    "\n",
    "\n",
    "def build_vocab(sentences, glove_path):\n",
    "    word_dict = get_word_dict(sentences)\n",
    "    word_vec = get_glove(word_dict, glove_path)\n",
    "    print('Vocab size : {0}'.format(len(word_vec)))\n",
    "    return word_vec\n",
    "\n",
    "\n",
    "def get_nli(data_path):\n",
    "    s1 = {}\n",
    "    s2 = {}\n",
    "    target = {}\n",
    "\n",
    "    dico_label = {'entailment': 0,  'neutral': 1, 'contradiction': 2}\n",
    "\n",
    "    for data_type in ['train', 'dev', 'test']:\n",
    "        s1[data_type], s2[data_type], target[data_type] = {}, {}, {}\n",
    "        s1[data_type]['path'] = os.path.join(data_path, 's1.' + data_type)\n",
    "        s2[data_type]['path'] = os.path.join(data_path, 's2.' + data_type)\n",
    "        target[data_type]['path'] = os.path.join(data_path,\n",
    "                                                 'labels.' + data_type)\n",
    "\n",
    "        s1[data_type]['sent'] = [line.rstrip() for line in\n",
    "                                 open(s1[data_type]['path'], 'r')]\n",
    "        s2[data_type]['sent'] = [line.rstrip() for line in\n",
    "                                 open(s2[data_type]['path'], 'r')]\n",
    "        target[data_type]['data'] = np.array([dico_label[line.rstrip('\\n')]\n",
    "                for line in open(target[data_type]['path'], 'r')])\n",
    "\n",
    "        assert len(s1[data_type]['sent']) == len(s2[data_type]['sent']) == \\\n",
    "            len(target[data_type]['data'])\n",
    "\n",
    "        print('** {0} DATA : Found {1} pairs of {2} sentences.'.format(\n",
    "                data_type.upper(), len(s1[data_type]['sent']), data_type))\n",
    "\n",
    "    train = {'s1': s1['train']['sent'], 's2': s2['train']['sent'],\n",
    "             'label': target['train']['data']}\n",
    "    dev = {'s1': s1['dev']['sent'], 's2': s2['dev']['sent'],\n",
    "           'label': target['dev']['data']}\n",
    "    test = {'s1': s1['test']['sent'], 's2': s2['test']['sent'],\n",
    "            'label': target['test']['data']}\n",
    "    return train, dev, test\n",
    "\n",
    "train, valid, test = get_nli(\"/home/dc/cs230_project/dataset/SNLI\")\n",
    "print(type(train),type(valid),type(test))\n",
    "print(type(train['s1']),type(train['s2']),type(train['label']))\n",
    "print(type(valid['s1']),type(valid['s2']),type(valid['label']))\n",
    "print(type(test['s1']),type(test['s2']),type(test['label']))\n"
   ]
  },
  {
   "cell_type": "code",
   "execution_count": 3,
   "metadata": {},
   "outputs": [
    {
     "name": "stdout",
     "output_type": "stream",
     "text": [
      "549367\n",
      "<class 'list'>\n"
     ]
    }
   ],
   "source": [
    "#snli stats\n",
    "import os\n",
    "\n",
    "def num_words(text):\n",
    "    return len(text.split())\n",
    "\n",
    "snli_dir = 'dataset/SNLI'\n",
    "\n",
    "file_name=\"s1.train\"\n",
    "with open(os.path.join(snli_dir,file_name),\"r\") as fh:    \n",
    "    num_word = [num_words(line) for line in fh]\n",
    "print(len(num_word))\n",
    "print(type(num_word))"
   ]
  },
  {
   "cell_type": "code",
   "execution_count": 14,
   "metadata": {},
   "outputs": [
    {
     "name": "stdout",
     "output_type": "stream",
     "text": [
      "1 60 8.251292851591012\n"
     ]
    }
   ],
   "source": [
    "import numpy as np\n",
    "print(np.min(num_word),np.max(num_word),np.mean(num_word))"
   ]
  },
  {
   "cell_type": "code",
   "execution_count": 12,
   "metadata": {},
   "outputs": [
    {
     "name": "stdout",
     "output_type": "stream",
     "text": [
      "549367\n",
      "<class 'list'>\n",
      "0 6\n",
      "Counter({1: 522769, 0: 26038, 2: 339, 3: 134, 4: 48, 5: 36, 6: 3})\n"
     ]
    },
    {
     "data": {
      "image/png": "[encoded data removed]",
      "text/plain": [
       "<Figure size 432x288 with 1 Axes>"
      ]
     },
     "metadata": {
      "needs_background": "light"
     },
     "output_type": "display_data"
    }
   ],
   "source": [
    "def num_periods(text):\n",
    "    return text.count(\".\")\n",
    "\n",
    "file_name=\"s1.train\"\n",
    "with open(os.path.join(snli_dir,file_name),\"r\") as fh:    \n",
    "    num_sent = [num_periods(line) for line in fh]\n",
    "print(len(num_sent))\n",
    "print(type(num_sent))\n",
    "print(np.min(num_sent),np.max(num_sent))\n",
    "import collections\n",
    "from collections import Counter\n",
    "\n",
    "print(collections.Counter(num_sent))\n",
    "import matplotlib.pyplot as plt\n",
    "%matplotlib inline\n",
    "\n",
    "plt.hist(num_sent,bins=6)\n",
    "plt.show()"
   ]
  },
  {
   "cell_type": "code",
   "execution_count": 13,
   "metadata": {},
   "outputs": [
    {
     "name": "stdout",
     "output_type": "stream",
     "text": [
      "549367\n",
      "<class 'list'>\n",
      "1 60 8.251292851591012\n"
     ]
    }
   ],
   "source": [
    "import os\n",
    "\n",
    "def num_words(text):\n",
    "    return len(text.split())\n",
    "\n",
    "snli_dir = 'dataset/SNLI'\n",
    "\n",
    "file_name=\"s2.train\"\n",
    "with open(os.path.join(snli_dir,file_name),\"r\") as fh:    \n",
    "    num_word = [num_words(line) for line in fh]\n",
    "print(len(num_word))\n",
    "print(type(num_word))\n",
    "print(np.min(num_word),np.max(num_word),np.mean(num_word))"
   ]
  },
  {
   "cell_type": "code",
   "execution_count": 9,
   "metadata": {},
   "outputs": [
    {
     "name": "stdout",
     "output_type": "stream",
     "text": [
      "549367\n",
      "<class 'list'>\n",
      "0 7\n"
     ]
    }
   ],
   "source": [
    "def num_periods(text):\n",
    "    return text.count(\".\")\n",
    "\n",
    "file_name=\"s2.train\"\n",
    "with open(os.path.join(snli_dir,file_name),\"r\") as fh:    \n",
    "    num_sent = [num_periods(line) for line in fh]\n",
    "print(len(num_sent))\n",
    "print(type(num_sent))\n",
    "print(np.min(num_sent),np.max(num_sent),np.mean(num_sent))\n"
   ]
  },
  {
   "cell_type": "code",
   "execution_count": null,
   "metadata": {},
   "outputs": [],
   "source": []
  }
 ],
 "metadata": {
  "kernelspec": {
   "display_name": "Python 3",
   "language": "python",
   "name": "python3"
  },
  "language_info": {
   "codemirror_mode": {
    "name": "ipython",
    "version": 3
   },
   "file_extension": ".py",
   "mimetype": "text/x-python",
   "name": "python",
   "nbconvert_exporter": "python",
   "pygments_lexer": "ipython3",
   "version": "3.6.6"
  }
 },
 "nbformat": 4,
 "nbformat_minor": 2
}
