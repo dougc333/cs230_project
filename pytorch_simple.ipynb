{
 "cells": [
  {
   "cell_type": "code",
   "execution_count": 57,
   "metadata": {},
   "outputs": [
    {
     "name": "stdout",
     "output_type": "stream",
     "text": [
      "     0    1    2    3  4\n",
      "0  5.1  3.5  1.4  0.2  0\n",
      "1  4.9  3.0  1.4  0.2  0\n",
      "(120, 4) (120, 1) (30, 4) (30, 1)\n",
      "(120,) (30,)\n"
     ]
    }
   ],
   "source": [
    "import torch\n",
    "import numpy as np\n",
    "import pandas as pd\n",
    "import sklearn\n",
    "from sklearn.model_selection import train_test_split\n",
    "\n",
    "iris_file = \"https://archive.ics.uci.edu/ml/machine-learning-databases/iris/iris.data\"\n",
    "df = pd.read_csv(iris_file, sep=\",\",header=None,)\n",
    "mapping = {\"Iris-setosa\":0, \"Iris-versicolor\":1, \"Iris-virginica\":2}\n",
    "df = df.replace(\"Iris-versicolor\",1)\n",
    "df = df.replace(\"Iris-setosa\",0)\n",
    "df = df.replace(\"Iris-virginica\",2)\n",
    "print(df[0:2])\n",
    "#columns are: \n",
    "#1. sepal length in cm \n",
    "#2. sepal width in cm \n",
    "#3. petal length in cm \n",
    "#4. petal width in cm \n",
    "#5. class: \n",
    "#-- Iris Setosa \n",
    "#-- Iris Versicolour \n",
    "#-- Iris Virginica\n",
    "df_X = df.drop(4,axis=1)\n",
    "df_X.head()\n",
    "df_Y = df.drop([0,1,2,3],axis=1)\n",
    "df_Y.head()\n",
    "X_train,x_test,Y_train,y_test = train_test_split(df_X.values, df_Y.values, test_size=0.20, random_state=42)\n",
    "print(X_train.shape,Y_train.shape,x_test.shape,y_test.shape)\n",
    "#logisticregression wants (30,) w/no column. Flattened array\n",
    "Y_train = np.ravel(Y_train)\n",
    "y_test = np.ravel(y_test)\n",
    "print(Y_train.shape,y_test.shape)"
   ]
  },
  {
   "cell_type": "code",
   "execution_count": 54,
   "metadata": {},
   "outputs": [],
   "source": [
    "from sklearn.linear_model import LogisticRegression\n",
    "\n",
    "clf = LogisticRegression(random_state=42, solver='lbfgs',multi_class='multinomial').fit(X_train, np.ravel(Y_train))\n"
   ]
  },
  {
   "cell_type": "code",
   "execution_count": 67,
   "metadata": {},
   "outputs": [
    {
     "name": "stdout",
     "output_type": "stream",
     "text": [
      "[[6.1 2.8 4.7 1.2]]\n",
      "[1]\n",
      "1\n"
     ]
    }
   ],
   "source": [
    "print(x_test[0].reshape(-1,1).T)\n",
    "\n",
    "whoami = clf.predict(x_test[0].reshape(-1,1).T)\n",
    "print(whoami) #this is a Iris-versicolor. \n",
    "print(y_test[0])\n",
    "#looks correct"
   ]
  },
  {
   "cell_type": "code",
   "execution_count": null,
   "metadata": {},
   "outputs": [],
   "source": []
  }
 ],
 "metadata": {
  "kernelspec": {
   "display_name": "Python 3",
   "language": "python",
   "name": "python3"
  },
  "language_info": {
   "codemirror_mode": {
    "name": "ipython",
    "version": 3
   },
   "file_extension": ".py",
   "mimetype": "text/x-python",
   "name": "python",
   "nbconvert_exporter": "python",
   "pygments_lexer": "ipython3",
   "version": "3.6.6"
  }
 },
 "nbformat": 4,
 "nbformat_minor": 2
}
