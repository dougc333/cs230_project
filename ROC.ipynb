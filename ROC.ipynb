{
 "cells": [
  {
   "cell_type": "code",
   "execution_count": 6,
   "metadata": {},
   "outputs": [
    {
     "name": "stdout",
     "output_type": "stream",
     "text": [
      "573 573 128 128\n",
      "632 632 128 128\n",
      "73223 73223\n",
      "80832 80832\n",
      "roc_auc_score:0.6955404830296512\n",
      "roc_auc_score:0.7994927401775063\n",
      "[0, 0, 0, 0, 1, 0, 1, 1, 0, 1, 0, 1, 0, 1, 0, 0, 1, 1, 1, 0, 1, 1, 0, 1, 0, 1, 0, 0, 0, 1, 1, 1, 0, 1, 0, 0, 0, 0, 0, 0, 0, 0, 1, 0, 0, 1, 0, 1, 1, 0, 1, 1, 0, 0, 1, 0, 0, 0, 0, 0, 0, 0, 1, 1, 0, 0, 0, 0, 0, 1, 0, 0, 0, 1, 0, 0, 0, 1, 0, 1, 0, 0, 1, 0, 1, 0, 0, 1, 0, 0, 0, 0, 0, 0, 0, 1, 0, 0, 0, 0]\n",
      "<class 'numpy.ndarray'> <class 'numpy.ndarray'>\n",
      "<class 'numpy.ndarray'> <class 'numpy.ndarray'>\n",
      "fpr [0.         0.24069809 1.        ]\n",
      "tpr [0.         0.63177906 1.        ]\n",
      "fpr1 [0.        0.1854228 1.       ]\n",
      "tpr1 [0.         0.78440828 1.        ]\n"
     ]
    },
    {
     "data": {
      "image/png": "[encoded data removed]",
      "text/plain": [
       "<Figure size 432x288 with 1 Axes>"
      ]
     },
     "metadata": {
      "needs_background": "light"
     },
     "output_type": "display_data"
    }
   ],
   "source": [
    "import numpy as np\n",
    "from sklearn.metrics import roc_curve\n",
    "import matplotlib.pyplot as plt\n",
    "from sklearn.metrics import roc_auc_score\n",
    "import pickle\n",
    "import os\n",
    "%matplotlib inline\n",
    "\n",
    "class ROC():\n",
    "    def __init__(self):\n",
    "        self.roc_dir = \"fprtpr\"\n",
    "        self.predict = self.read_list(os.path.join(self.roc_dir,\"valid_3layernonlinear_2fearurescleanadam.pickle_predict.pkl\"))\n",
    "        self.targets = self.read_list(os.path.join(self.roc_dir,\"valid_3layernonlinear_2fearurescleanadam.pickle_targets.pkl\"))\n",
    "        self.predict1 = self.read_list(os.path.join(self.roc_dir,'valid_3layernonlinear_2fearurescleanadam_predict.pkl'))\n",
    "        self.targets1 = self.read_list(os.path.join(self.roc_dir,'valid_3layernonlinear_2fearurescleanadam_targets.pkl'))\n",
    "        \n",
    "    def read_list(self,filename):\n",
    "        with open(filename,'rb') as f:\n",
    "            my_list = pickle.load(f)\n",
    "        return my_list\n",
    "\n",
    "    def makeROC(self):\n",
    "        print(len(self.predict),len(self.targets),len(self.predict[0]),len(self.targets[0]))\n",
    "        print(len(self.predict1),len(self.targets1),len(self.predict1[0]),len(self.targets1[0]))\n",
    "        \n",
    "        predict_flatten = [x for sublist in self.predict for x in sublist]\n",
    "        target_flatten = [x for sublist in self.targets for x in sublist]\n",
    "        \n",
    "        predict_flatten1 = [x for sublist in self.predict1 for x in sublist]\n",
    "        target_flatten1 = [x for sublist in self.targets1 for x in sublist]\n",
    "        \n",
    "        print(len(predict_flatten), len(target_flatten))\n",
    "        print(len(predict_flatten1), len(target_flatten1))\n",
    "        \n",
    "        print(f\"roc_auc_score:{roc_auc_score(target_flatten,predict_flatten)}\")\n",
    "        print(f\"roc_auc_score:{roc_auc_score(target_flatten1,predict_flatten1)}\")\n",
    "        #print(predict_flatten[0:100],)\n",
    "        fpr, tpr, thresholds = roc_curve(target_flatten, predict_flatten, pos_label=1)\n",
    "        fpr1, tpr1, thresholds1 = roc_curve(target_flatten1, predict_flatten1, pos_label=1)\n",
    "        \n",
    "        #plot fpr vs. tpr;tpr = y axis\n",
    "        print(type(fpr),type(tpr))\n",
    "        print(type(fpr1),type(tpr1))\n",
    "        \n",
    "        print('fpr',fpr)\n",
    "        print('tpr',tpr)\n",
    "        print('fpr1',fpr1)\n",
    "        print('tpr1',tpr1)\n",
    "        \n",
    "        np.save('fpr.npy', fpr)\n",
    "        np.save('tpr.npy', tpr)\n",
    "        np.save('fpr1.npy', fpr1)\n",
    "        np.save('tpr1.npy', tpr1)\n",
    "        plt.plot(fpr,tpr, color='skyblue',label=\"clean\")\n",
    "        plt.plot(fpr1,tpr1, color='red',label=\"big\")\n",
    "        plt.legend()\n",
    "        plt.xlabel('fpr')\n",
    "        plt.ylabel('tpr')\n",
    "        plt.title(\"test roc\")\n",
    "        plt.show()\n",
    "\n",
    "roc = ROC()\n",
    "roc.makeROC()\n"
   ]
  },
  {
   "cell_type": "code",
   "execution_count": null,
   "metadata": {},
   "outputs": [],
   "source": []
  }
 ],
 "metadata": {
  "kernelspec": {
   "display_name": "Python 3",
   "language": "python",
   "name": "python3"
  },
  "language_info": {
   "codemirror_mode": {
    "name": "ipython",
    "version": 3
   },
   "file_extension": ".py",
   "mimetype": "text/x-python",
   "name": "python",
   "nbconvert_exporter": "python",
   "pygments_lexer": "ipython3",
   "version": "3.6.6"
  }
 },
 "nbformat": 4,
 "nbformat_minor": 2
}
