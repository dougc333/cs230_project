{
 "cells": [
  {
   "cell_type": "code",
   "execution_count": 3,
   "metadata": {},
   "outputs": [
    {
     "name": "stdout",
     "output_type": "stream",
     "text": [
      "1652520条评论将被载入...\n"
     ]
    }
   ],
   "source": [
    "import json\n",
    "import string\n",
    "import utils\n",
    "from utils import Dictionary\n",
    "\n",
    "from nltk.tokenize import word_tokenize\n",
    "\n",
    "\n",
    "# ********************************************************************* #\n",
    "datapath = '/home/dc/yelp_academic_dataset_review.json'\n",
    "outpath = '/home/dc/data(%s).json'\n",
    "dictpath = '/home/dc/mydict(%s).json'\n",
    "debug_flag = True\n",
    "\n",
    "# ********************************************************************* #\n",
    "\n",
    "mydict = Dictionary()\n",
    "mydict.add_word('<pad>')\n",
    "\n",
    "reviews = open(datapath).readlines()\n",
    "n_reviews = len(reviews)\n",
    "print('%d条评论将被载入...' % n_reviews)\n",
    "\n",
    "if debug_flag:\n",
    "    size = '5'\n",
    "else:\n",
    "    size = 'all'\n",
    "\n",
    "with open(outpath % size, 'a') as f:\n",
    "    for i, line in enumerate(reviews):\n",
    "        if debug_flag:\n",
    "            if i == 5:\n",
    "                break\n",
    "        json_data = json.loads(line)\n",
    "        words = word_tokenize(json_data['text'].lower())\n",
    "        only_words = list()\n",
    "        for word in words:\n",
    "            # 去除标点和数字\n",
    "            if word in string.punctuation or word.isdigit():\n",
    "                continue\n",
    "            else:\n",
    "                only_words.append(word)\n",
    "\n",
    "        data = {\n",
    "            'label': json_data['stars'],\n",
    "            'text': only_words\n",
    "        }\n",
    "\n",
    "        f.write(json.dumps(data) + '\\n')\n",
    "\n",
    "        for word in only_words:\n",
    "            mydict.add_word(word)\n",
    "        if i % 100 == 99:\n",
    "            print('%.2f%% done, dictionary size: %d' % ((i + 1) * 100 / n_reviews, len(mydict)))\n",
    "\n",
    "# 保存字典，下次可以直接载入\n",
    "with open(dictpath % size, 'a') as f:\n",
    "    f.write(json.dumps(mydict.idx2word) + '\\n')\n",
    "    f.close()\n"
   ]
  },
  {
   "cell_type": "code",
   "execution_count": null,
   "metadata": {},
   "outputs": [],
   "source": []
  }
 ],
 "metadata": {
  "kernelspec": {
   "display_name": "Python 3",
   "language": "python",
   "name": "python3"
  },
  "language_info": {
   "codemirror_mode": {
    "name": "ipython",
    "version": 3
   },
   "file_extension": ".py",
   "mimetype": "text/x-python",
   "name": "python",
   "nbconvert_exporter": "python",
   "pygments_lexer": "ipython3",
   "version": "3.6.6"
  }
 },
 "nbformat": 4,
 "nbformat_minor": 2
}
